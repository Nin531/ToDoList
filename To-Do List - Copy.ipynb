{
 "cells": [
  {
   "cell_type": "code",
   "execution_count": 1,
   "id": "f6385d7a",
   "metadata": {},
   "outputs": [],
   "source": [
    "import pandas as pd"
   ]
  },
  {
   "cell_type": "code",
   "execution_count": null,
   "id": "42c39961",
   "metadata": {},
   "outputs": [
    {
     "name": "stdout",
     "output_type": "stream",
     "text": [
      "Menu:\n",
      "1- Add an item\n",
      "2- Mark as done \n",
      "3- View items\n",
      "4- Exit\n"
     ]
    }
   ],
   "source": [
    "user_input = 'random'\n",
    "data = []\n",
    "\n",
    "def show_menu():\n",
    "    print('Menu:')\n",
    "    print('1- Add an item')\n",
    "    print('2- Mark as done ')\n",
    "    print('3- View items')\n",
    "    print('4- Exit')\n",
    "\n",
    "while user_input !='4':\n",
    "    \n",
    "    show_menu()\n",
    "    user_input = input('Enter your choice: ')\n",
    "    \n",
    "    if user_input == '1':\n",
    "        item = input('Add item: ')\n",
    "        data.append(item)\n",
    "        print('Added item', item)\n",
    "    elif user_input == '2':\n",
    "        item = input('What is to be marked as done? ')\n",
    "        if item in data:\n",
    "         data.remove(item)\n",
    "         print('Removed item', item)\n",
    "        else:\n",
    "            print('Item does not exist in list')\n",
    "    elif user_input == '3':\n",
    "        print('Items in To-Do List: ')\n",
    "        for item in data:\n",
    "            print(item)\n",
    "    elif user_input == '4':\n",
    "        print('Goodbye')\n",
    "    else:\n",
    "        print('Please enter one of the number 1, 2, 3, or 4')\n"
   ]
  },
  {
   "cell_type": "code",
   "execution_count": null,
   "id": "352f4a0e",
   "metadata": {},
   "outputs": [],
   "source": []
  }
 ],
 "metadata": {
  "kernelspec": {
   "display_name": "Python 3 (ipykernel)",
   "language": "python",
   "name": "python3"
  },
  "language_info": {
   "codemirror_mode": {
    "name": "ipython",
    "version": 3
   },
   "file_extension": ".py",
   "mimetype": "text/x-python",
   "name": "python",
   "nbconvert_exporter": "python",
   "pygments_lexer": "ipython3",
   "version": "3.9.12"
  }
 },
 "nbformat": 4,
 "nbformat_minor": 5
}
